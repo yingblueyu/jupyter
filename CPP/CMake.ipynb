{
 "cells": [
  {
   "cell_type": "markdown",
   "id": "3d0a2e7e",
   "metadata": {},
   "source": [
    "cmake PATH # PATH include MakeLists.txt"
   ]
  },
  {
   "cell_type": "markdown",
   "id": "cfd454d9",
   "metadata": {},
   "source": [
    "PROJECT指令\n",
    "PROJECT(projectname\\[CXX\\] \\[C\\] \\[Java\\])　　//定义工程名称，并指定支持的语言（默认支持所有语言）\n",
    "该指令隐式的定义了两个cmake变量：<projectname>\\_BINARY\\_DIR以及<projectname>\\_SOURCE\\_DIR，内部编译的情况下，两个变量相同，如上述工程中均为当前目录。同时cmake系统也自动预定义了PROJECT\\_BINARY\\_DIR和PROJECT\\_SOURCE\\_DIR变量，他们的值分别跟HELLO\\_BINARY\\_DIR与HELLO\\_SOURCE\\_DIR一致；建议直接使用PROJECT\\_BINARY\\_DIR和PROJECT\\_SOURCE\\_DIR变量，避免工程名称的影响。</projectname></projectname>\n",
    "\n",
    "SET指令\n",
    "SET(VAR \\[VALUE\\] \\[CACHE TYPE DOCSTRING \\[FORCE\\]\\])　　//用来显式的定义变量\n",
    "如：SET(SRC\\_LIST main.c)，如果有多个源文件：SET(SRC\\_LIST main.c t1.c t2.c)\n",
    "\n",
    "MESSAGE指令\n",
    "MESSAGE(\\[SEND\\_ERROR | STATUS | FATAL\\_ERROR\\] “message to display”…)　　//用于向终端输出用户定义的信息\n",
    "包含了三种类型:\n",
    "SEND_ERROR，产生错误，生成过程被跳过\n",
    "SATUS，输出前缀为—的信息。\n",
    "FATAL_ERROR，立即终止所有cmake过程\n",
    "\n",
    "ADD\\_EXECUTABLE(hello ${SRC\\_LIST})\n",
    "生成名为hello的可执行文件，源文件列表由变量SRC_LIST定义\n",
    "\n",
    "内部构建与外部构建（in-source build, out-of-source build）\n",
    "- 内部编译不足：生成的中间临时文件与代码文件混在一起，且无法自动删除\n",
    "- 外部编译过程\n",
    "    - 清除目录中的除main.c和CMakeLists.txt之外的所有中间文件，特别是CMakeCache.txt\n",
    "    - 新建build目录　　//也可以建在其他位置\n",
    "    - 进入build目录，运行cmake …　　//…代表父目录，也可以输入工程代码文件的全路径；最终在build目录中生成编译需要的Makefile和其他中间文件\n",
    "    - 运行make　　//在当前目录（build）中生成hello目标文件"
   ]
  },
  {
   "cell_type": "code",
   "execution_count": null,
   "id": "44cd6ab6",
   "metadata": {},
   "outputs": [],
   "source": [
    "PROJECT(HELLO)\n",
    "SET(SRC_LIST main.c)\n",
    "MESSAGE(STATUS \"This is BINARY dir\" ${HELLO_BINARY_DIR})\n",
    "MESSAGE(STATUS \"This is SORUCE dir\" ${HELLO_SOURCE_DIR})\n",
    "ADD_EXECUTABLE(hello ${SRC_LIST})"
   ]
  },
  {
   "cell_type": "markdown",
   "id": "ae567202",
   "metadata": {},
   "source": [
    "单文件编译"
   ]
  },
  {
   "cell_type": "code",
   "execution_count": null,
   "id": "eb42e0ac",
   "metadata": {},
   "outputs": [],
   "source": [
    "cmake_minimum_required(VERSION 2.8)\n",
    "\n",
    "project(project_name)\n",
    "\n",
    "add_executable(project_name SimpleSection.c)"
   ]
  },
  {
   "cell_type": "markdown",
   "id": "5615b9eb",
   "metadata": {},
   "source": [
    "同一目录，多文件"
   ]
  },
  {
   "cell_type": "code",
   "execution_count": null,
   "id": "56d9b118",
   "metadata": {},
   "outputs": [],
   "source": [
    "cmake_minimum_required(VERSION 2.8)\n",
    "\n",
    "project(project_name)\n",
    "\n",
    "add_executable(project_name main.c SimpleSection.c)"
   ]
  },
  {
   "cell_type": "code",
   "execution_count": null,
   "id": "a4cf7ff4",
   "metadata": {},
   "outputs": [],
   "source": [
    "cmake_minimum_required(VERSION 2.8)\n",
    "\n",
    "project(project_name)\n",
    "\n",
    "# 查找当前目录下所有源文件，并将名称保持到 DIR_SRCS\n",
    "aux_source-directory(. DIR_SRCS)\n",
    "\n",
    "add_executable(project_name ${DIR_SRCS})"
   ]
  }
 ],
 "metadata": {
  "kernelspec": {
   "display_name": "Python 3 (ipykernel)",
   "language": "python",
   "name": "python3"
  },
  "language_info": {
   "codemirror_mode": {
    "name": "ipython",
    "version": 3
   },
   "file_extension": ".py",
   "mimetype": "text/x-python",
   "name": "python",
   "nbconvert_exporter": "python",
   "pygments_lexer": "ipython3",
   "version": "3.10.6"
  }
 },
 "nbformat": 4,
 "nbformat_minor": 5
}
