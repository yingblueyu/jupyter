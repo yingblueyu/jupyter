{
 "cells": [
  {
   "cell_type": "markdown",
   "id": "d5a6a6f5",
   "metadata": {},
   "source": [
    "brew install opencv\n",
    "pkg-config --cflags opencv4\n",
    "plg-config --libs opencv4"
   ]
  }
 ],
 "metadata": {
  "kernelspec": {
   "display_name": "Python 3 (ipykernel)",
   "language": "python",
   "name": "python3"
  },
  "language_info": {
   "codemirror_mode": {
    "name": "ipython",
    "version": 3
   },
   "file_extension": ".py",
   "mimetype": "text/x-python",
   "name": "python",
   "nbconvert_exporter": "python",
   "pygments_lexer": "ipython3",
   "version": "3.10.6"
  }
 },
 "nbformat": 4,
 "nbformat_minor": 5
}
