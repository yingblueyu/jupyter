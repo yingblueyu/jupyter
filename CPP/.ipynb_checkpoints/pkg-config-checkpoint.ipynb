{
 "cells": [
  {
   "cell_type": "markdown",
   "id": "54089588",
   "metadata": {},
   "source": [
    "pkg-config在编译应用程序和库的时候作为一个工具来使用。\n",
    "```\n",
    "gcc -o test test.c `pkg-config --libs --cflags glib-2.0`\n",
    "\n",
    "```"
   ]
  },
  {
   "cell_type": "markdown",
   "id": "d0552a0b",
   "metadata": {},
   "source": [
    " \n",
    "```\n",
    "# 当前安装的库\n",
    "pkg-config --list-all\n",
    "\n",
    "```\n",
    "\n",
    "pkg-config会到/usr/lib/pkconfig/目录下去寻找glib-2.0.pc文件。 \n",
    "此时我们需要通过PKG_CONFIG_PATH环境变量来指定pkg-config还应该在哪些地方去寻找.pc文件。\n",
    "\n",
    "```\n",
    "export PKG_CONFIG_PATH=$PKG_CONFIG_PATH:/usr/local/lib/pkgconfig/\n",
    "\n",
    "```"
   ]
  }
 ],
 "metadata": {
  "kernelspec": {
   "display_name": "Python 3 (ipykernel)",
   "language": "python",
   "name": "python3"
  },
  "language_info": {
   "codemirror_mode": {
    "name": "ipython",
    "version": 3
   },
   "file_extension": ".py",
   "mimetype": "text/x-python",
   "name": "python",
   "nbconvert_exporter": "python",
   "pygments_lexer": "ipython3",
   "version": "3.10.6"
  }
 },
 "nbformat": 4,
 "nbformat_minor": 5
}
