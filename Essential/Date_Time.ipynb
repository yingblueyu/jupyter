{
 "cells": [
  {
   "cell_type": "markdown",
   "id": "a7aa7c12",
   "metadata": {},
   "source": [
    "UTC Unimversal Time Coordinated\n",
    "GMT Greenwich Mean Time\n",
    "CST China standard Time\n",
    "\n",
    "# 世界时UT\n",
    "\n",
    "1884年，在华盛顿召开了国际子午线会议(International Meridian Conference)，英国格林尼治皇家天文台的当地平太阳时被指定为通用日，以午夜零时作为当天的起点。这种规定符合民用格林尼治时间(GMT)，民用GMT自1847年起就在大不列颠岛使用。相比之下，天文GMT开始于当天午夜后12小时的中午，直到1925年1月1日都是如此。与之相反，航海GMT开始于当天午夜前12小时的中午，至少到了1805年英国皇家海军还在使用，航海GMT在其他地方又被使用了更长的时间，因为1884年的国际子午线会议提到了它。1884年，有三分之二的图表和地图使用格林尼治子午线(Greenwich Meridian)作为它们的本初子午线(Prime Meridian)[18]。1928年，国际天文联合会(International Astronomical Union)引入了世界时(UT)的概念来指代GMT，UT的一天开始于GMT的午夜[19]。直到20世纪50年代，广播时间信号都是以世界时UT为准，因此也以地球的自转为准。\n",
    "\n",
    "世界时（Universal Time，简称UT）是一种以格林威治子夜起算的平太阳时。世界时是以地球自转为基准得到的时间尺度，其精度受到地球自转不均匀变化和极移的影响，为了解决这种影响，1955年国际天文联合会定义了UT0、UT1和UT2三个系统：\n",
    "\n",
    "- UT0系统是由一个天文台的天文观测直接测定的世界时，没有考虑极移造成的天文台地理坐标变化。该系统曾长期被认为是稳定均匀的时间计量系统，得到过广泛应用。\n",
    "- UT1系统是在UT0的基础上加入了极移改正 Δλ，修正地轴摆动的影响。UT1是目前使用的世界时标准。被作为目前世界民用时间标准UTC在增减闰秒时的参照标准。\n",
    "- UT2系统是UT1的平滑处理版本，在UT1基础上加入了地球自转速率的季节性改正 ΔT。\n",
    "  它们之间的关系可以表示为：\n",
    "\n",
    "  UT1 = UT0 + Δλ\n",
    "  UT2 = UT1 + ΔT\n",
    "\n",
    "# 协调世界时UTC\n",
    "\n",
    "协调世界时(Coordinated  Universal Time)最主要的世界时间标准，其以原子时的秒长为基础，在时刻上尽量接近于格林威治标准时间。\n",
    "\n",
    "协调世界时把时间分为天、小时、分钟和秒。通常，天是使用格里历（公历）定义的，但也能使用儒略日。一分钟通常有60秒，但加入了随机的闰秒后，一分钟可能是61秒或59秒。位于巴黎的国际地球自转事务中央局负责决定何时加入闰秒。"
   ]
  }
 ],
 "metadata": {
  "kernelspec": {
   "display_name": "Python 3 (ipykernel)",
   "language": "python",
   "name": "python3"
  },
  "language_info": {
   "codemirror_mode": {
    "name": "ipython",
    "version": 3
   },
   "file_extension": ".py",
   "mimetype": "text/x-python",
   "name": "python",
   "nbconvert_exporter": "python",
   "pygments_lexer": "ipython3",
   "version": "3.10.6"
  }
 },
 "nbformat": 4,
 "nbformat_minor": 5
}
