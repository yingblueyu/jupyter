{
 "cells": [
  {
   "cell_type": "code",
   "execution_count": null,
   "id": "a013a807",
   "metadata": {},
   "outputs": [],
   "source": [
    "from PyQt5.QtWidgets import QApplication, QMainWindow\n",
    "\n",
    "import sys\n",
    "\n",
    "app = QApplication(sys.argv) # QApplication holds the Qt event loop\n",
    "\n",
    "window = QMainWindow()\n",
    "window.show()\n",
    "\n",
    "app.exec_() # start up the event loop"
   ]
  }
 ],
 "metadata": {
  "kernelspec": {
   "display_name": "Python 3 (ipykernel)",
   "language": "python",
   "name": "python3"
  },
  "language_info": {
   "codemirror_mode": {
    "name": "ipython",
    "version": 3
   },
   "file_extension": ".py",
   "mimetype": "text/x-python",
   "name": "python",
   "nbconvert_exporter": "python",
   "pygments_lexer": "ipython3",
   "version": "3.10.6"
  }
 },
 "nbformat": 4,
 "nbformat_minor": 5
}
