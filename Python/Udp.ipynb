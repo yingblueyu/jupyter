{
 "cells": [
  {
   "cell_type": "markdown",
   "id": "3be6b2d7",
   "metadata": {},
   "source": [
    "# 服务器端"
   ]
  },
  {
   "cell_type": "code",
   "execution_count": null,
   "id": "b7cc3e4e",
   "metadata": {},
   "outputs": [],
   "source": [
    "#!/usr/bin/env python3\n",
    "# -*- coding: utf-8 -*-\n",
    "import socket\n",
    "\n",
    "s = socket.socket(socket.AF_INET, socket.SOCK_DGRAM)\n",
    "s.bind((\"127.0.0.1\", 6000))\n",
    "print(\"UDP bound on port 6000...\")\n",
    "\n",
    "while True:\n",
    "\tdata, addr = s.recvfrom(1024)\n",
    "\tprint(\"Receive from %s:%s\" % addr)\n",
    "\tif data == b\"exit\":\n",
    "\t\ts.sendto(b\"Good bye!\\n\", addr)\n",
    "\t\tcontinue\n",
    "\ts.sendto(b\"Hello %s!\\n\" % data, addr)"
   ]
  },
  {
   "cell_type": "markdown",
   "id": "6754972b",
   "metadata": {},
   "source": [
    "# 客户端"
   ]
  },
  {
   "cell_type": "code",
   "execution_count": null,
   "id": "fa78a8c0",
   "metadata": {},
   "outputs": [],
   "source": [
    "#!/usr/bin/env python3\n",
    "# -*- coding: utf-8 -*-\n",
    "import socket\n",
    "\n",
    "s = socket.socket(socket.AF_INET, socket.SOCK_DGRAM)\n",
    "addr = (\"127.0.0.1\", 6000)\n",
    "\n",
    "while True:\n",
    "\tdata = input(\"Please input your name: \")\n",
    "\tif not data:\n",
    "\t\tcontinue\n",
    "\ts.sendto(data.encode(), addr)\n",
    "\tresponse, addr = s.recvfrom(1024)\n",
    "\tprint(response.decode())\n",
    "\tif data == \"exit\":\n",
    "\t\tprint(\"Session is over from the server %s:%s\\n\" % addr)\n",
    "\t\tbreak\n",
    "\n",
    "s.close()"
   ]
  }
 ],
 "metadata": {
  "kernelspec": {
   "display_name": "Python 3 (ipykernel)",
   "language": "python",
   "name": "python3"
  },
  "language_info": {
   "codemirror_mode": {
    "name": "ipython",
    "version": 3
   },
   "file_extension": ".py",
   "mimetype": "text/x-python",
   "name": "python",
   "nbconvert_exporter": "python",
   "pygments_lexer": "ipython3",
   "version": "3.10.6"
  }
 },
 "nbformat": 4,
 "nbformat_minor": 5
}
