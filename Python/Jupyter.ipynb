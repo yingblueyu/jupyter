{
 "cells": [
  {
   "cell_type": "markdown",
   "id": "311f3c45",
   "metadata": {},
   "source": [
    "\n",
    "```\n",
    "jupyter notebook --generate-config\n",
    "# Writing default config to: /home/yt/.jupyter/jupyter_notebook_config.py\n",
    "\n",
    "\n",
    "jupyter server --generate-config\n",
    "# Writing default config to: /home/yt/.jupyter/jupyter_server_config.py\n",
    "```"
   ]
  }
 ],
 "metadata": {
  "kernelspec": {
   "display_name": "Python 3 (ipykernel)",
   "language": "python",
   "name": "python3"
  },
  "language_info": {
   "codemirror_mode": {
    "name": "ipython",
    "version": 3
   },
   "file_extension": ".py",
   "mimetype": "text/x-python",
   "name": "python",
   "nbconvert_exporter": "python",
   "pygments_lexer": "ipython3",
   "version": "3.10.6"
  }
 },
 "nbformat": 4,
 "nbformat_minor": 5
}
