{
 "cells": [
  {
   "cell_type": "markdown",
   "id": "78ad8e25",
   "metadata": {},
   "source": [
    "Armin Ronacher: The author of Flask"
   ]
  },
  {
   "cell_type": "markdown",
   "id": "7ae236b7",
   "metadata": {},
   "source": [
    "Werkzeug: routing, debugging, WSGI\n",
    "Jinja2: template\n",
    "Click: command-line integration"
   ]
  },
  {
   "cell_type": "markdown",
   "id": "6fc7e550",
   "metadata": {},
   "source": [
    "debug=True # 代码改变时，自动重启"
   ]
  },
  {
   "cell_type": "code",
   "execution_count": null,
   "id": "16d40c6e",
   "metadata": {},
   "outputs": [],
   "source": [
    "from flask import Flask\n",
    "\n",
    "app = Flask(__name__) # use __name__ to determine the location of app, thus to locate other files, such as images and templates.\n",
    "\n",
    "@app.route('/')\n",
    "def hello():\n",
    "    return 'hello docker domg damg with gunicorn'\n",
    "\n",
    "# 相当于---------------\n",
    "def index():\n",
    "    return '<h1>hello world</h1>'\n",
    "\n",
    "app.add_url_rule('/', 'index', index)\n",
    "# ---------------------\n",
    "\n",
    "@app.route('/user/<name>')\n",
    "def user(name):\n",
    "    return '<h1>hello {}'.format(name)\n",
    "\n",
    "if __name__ == '__main__':\n",
    "    app.run(debug=True)"
   ]
  },
  {
   "cell_type": "code",
   "execution_count": null,
   "id": "6a485994",
   "metadata": {},
   "outputs": [],
   "source": [
    "app = Flask(__name__)\n",
    "DEBUG = True\n",
    "TESTING = True\n",
    "app.config.from_object(__name__) # using default settings in app.py\n",
    "app.config.from_pyfile('/path/to/config/file') # override same by loading from file"
   ]
  },
  {
   "cell_type": "markdown",
   "id": "0d78d8df",
   "metadata": {},
   "source": [
    "templates\n",
    "If the floder is preset, then Flask will automatically read the contents by render_template()"
   ]
  }
 ],
 "metadata": {
  "kernelspec": {
   "display_name": "Python 3 (ipykernel)",
   "language": "python",
   "name": "python3"
  },
  "language_info": {
   "codemirror_mode": {
    "name": "ipython",
    "version": 3
   },
   "file_extension": ".py",
   "mimetype": "text/x-python",
   "name": "python",
   "nbconvert_exporter": "python",
   "pygments_lexer": "ipython3",
   "version": "3.10.6"
  }
 },
 "nbformat": 4,
 "nbformat_minor": 5
}
