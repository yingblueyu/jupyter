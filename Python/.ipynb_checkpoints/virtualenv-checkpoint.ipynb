{
 "cells": [
  {
   "cell_type": "markdown",
   "id": "78e9192f",
   "metadata": {},
   "source": [
    "# virtualenv\n",
    "\n",
    "virtualenv 是目前最流行的 Python 虚拟环境配置工具。它不仅同时支持 Python2 和 Python3，而且可以\n",
    "为每个虚拟环境指定 Python 解释器，并选择不继承基础版本的包。\n",
    "\n",
    "pip install virtualenv  \n",
    "pip install virtualenvwrapper  \n",
    "\n",
    "```\n",
    "# .zshrc\n",
    "# Configuration for virtualenv\n",
    "export WORKON_HOME=$HOME/.virtualenvs\n",
    "export VIRTUALENVWRAPPER_PYTHON=/usr/local/bin/python3\n",
    "export VIRTUALENVWRAPPER_VIRTUALENV=/usr/local/bin/virtualenv\n",
    "source /usr/local/bin/virtualenvwrapper.sh\n",
    "```\n",
    "\n",
    "```\n",
    "# 创建虚拟环境并进入\n",
    "mkvirtualenv python_1\n",
    "deactive\n",
    "\n",
    "mkvirtualenv python_2\n",
    "deactive\n",
    "```\n",
    "\n",
    "```\n",
    "workon\n",
    "workon python_1\n",
    "```"
   ]
  },
  {
   "cell_type": "markdown",
   "id": "14345b9b",
   "metadata": {},
   "source": [
    "# pip\n",
    "pip is the package installer for Python. You can use it to install packages from the Python Package Index and other indexes.\n",
    "\n",
    "```\n",
    "python --version\n",
    "python -m pip --version\n",
    "pip3 install --upgrade pip\n",
    "\n",
    "\n",
    "# install a package from a distribution file \n",
    "python -m pip install sampleproject-1.0-py3-none-any.whl\n",
    "\n",
    "# install multiple packages using a requiresments file\n",
    "python -m pip install -r requirements.txt\n",
    "\n",
    "# upgrade a package\n",
    "python -m pip install --upgrade sampleproject\n",
    "\n",
    "# uninstall a package\n",
    "python -m pip uninstall sampleproject\n",
    "\n",
    "pip3 install 库名 -i https://mirrors.aliyun.com/pypi/simple/\n",
    "```"
   ]
  }
 ],
 "metadata": {
  "kernelspec": {
   "display_name": "Python 3 (ipykernel)",
   "language": "python",
   "name": "python3"
  },
  "language_info": {
   "codemirror_mode": {
    "name": "ipython",
    "version": 3
   },
   "file_extension": ".py",
   "mimetype": "text/x-python",
   "name": "python",
   "nbconvert_exporter": "python",
   "pygments_lexer": "ipython3",
   "version": "3.10.6"
  }
 },
 "nbformat": 4,
 "nbformat_minor": 5
}
