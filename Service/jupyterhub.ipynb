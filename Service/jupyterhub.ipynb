{
 "cells": [
  {
   "cell_type": "markdown",
   "id": "e1820b9e",
   "metadata": {},
   "source": [
    "# 安装"
   ]
  },
  {
   "cell_type": "markdown",
   "id": "c3ec1fe0",
   "metadata": {},
   "source": [
    "## jupyter安装\n",
    "\n",
    "```bash\n",
    "pip install jupyter\n",
    "jupyter notebook\n",
    "\n",
    "jupyter notebook --help\n",
    "jupyter notebook --port 9000\n",
    "\n",
    "# 远程连接\n",
    "jupyter notebook --no-browser --port=8080\n",
    "ssh -L 8080:localhost:<PORT> <REMOTE_USER>@<REMOTE_HOST>\n",
    "```\n",
    "\n",
    "让jupyter接受远程连接\n",
    "```\n",
    "(base) [yt@core-clusters-1 ~]$ jupyter notebook --generate-config\n",
    "Writing default config to: /home/yt/.jupyter/jupyter_notebook_config.py\n",
    "\n",
    "from notebook.auth import passwd\n",
    "passwd()\n",
    "Enter password:\n",
    "Verify password:\n",
    "Out[2]: 'sha1:67c9e60bb8b6:9ffede0825894254b2e042ea597d771089e11ae\n",
    "```"
   ]
  },
  {
   "cell_type": "markdown",
   "id": "d4ad8693",
   "metadata": {},
   "source": [
    "## jupyterhub 安装\n",
    "\n",
    "宿主机 \n",
    "```\n",
    "mkdir /home/yt/Notebook 用户名为yt\n",
    "mkdir /home/yujun/Notebook 用户名为yujun\n",
    "\n",
    "docker run -p 8000:8000 -d --name jupyterhub \\\n",
    "-v /home/yt/etc/jupyterhub:/etc/jupyterhub \\\n",
    "-v /home/yt/Notebook:/home/yt/Notebook \\\n",
    "-v /home/yujun/Notebook:/home/yujun/Notebook \\ \n",
    "--restart=always jupyterhub/jupyterhub \\\n",
    "jupyterhub -f /etc/jupyterhub/jupyterhub_config.py\n",
    "\n",
    "docker exec -it jupyterhub bash\n",
    "```\n",
    "\n",
    "容器\n",
    "```\n",
    "pip install notebook\n",
    "\n",
    "\n",
    "passwd yt\n",
    "cd /home/yt\n",
    "mkdir .local\n",
    "chown yt:yt .local\n",
    "\n",
    "passwd yujun\n",
    "cd /home/yujun\n",
    "mkdir .local\n",
    "chown yujun:yujun .local\n",
    "\n",
    "```"
   ]
  },
  {
   "cell_type": "markdown",
   "id": "b5da1979",
   "metadata": {},
   "source": [
    "## kernel安装\n",
    "\n",
    "jupyter kernelspec list\n",
    "\n",
    "ijavascript(Node.js)\n",
    "\n",
    "```\n",
    "sudo npm install -g --unsafe-perm ijavascript\n",
    "sudo ijsinstall --install=global\n",
    "```"
   ]
  },
  {
   "cell_type": "markdown",
   "id": "91d0235c",
   "metadata": {},
   "source": [
    "Shift + Enter\n",
    "Ctrl + Enter\n",
    "\n",
    "- Enter: switch to edit mode\n",
    "- ↑ or k: select the previous cell\n",
    "- ↓ or j: select the next cell\n",
    "- y / m: change the cell type to code cell/Markdown cell\n",
    "- a / b: insert a new cell above/below the current cell\n",
    "- x / c / v: cut/copy/paste the current cell\n",
    "- dd: delete the current cell\n",
    "- z: undo the last delete operation\n",
    "- Shift + =: merge the cell below\n",
    "- h: display the help menu with the list of keyboard shortcuts\n",
    "\n",
    "单元运行时，代码的任何stdout或stderr输出将显示在下方。 此外，写在最后一行的对象的字符串表示形式也会显示在中。 这非常方便，尤其是对于显示表格而言，但有时我们不希望显示最终对象。 在这种情况下，可以在行的末尾添加分号（;）以抑制显示。\n",
    "\n",
    "工作表中存在的每个单元格都可以访问全局变量集。例如，在一个单元格中定义的函数可以从任何其他单元调用，并且同样适用于变量。 正如人们所期望的，函数范围内的任何内容都不是全局变量，只能从该特定函数中进行访问。"
   ]
  },
  {
   "cell_type": "markdown",
   "id": "1e63363e",
   "metadata": {},
   "source": [
    "| 命令  | 说明  |\n",
    "| --- | --- |\n",
    "| Ctrl+C | 中止正在执行的代码 |\n",
    "| Ctrl+A | 光标移到行首 |\n",
    "| Ctrl+U | 清除当前行文本 |\n",
    "| Ctrl+L | 清屏  |\n",
    "| Ctrl+K | 删除光标到行尾的文本 |\n",
    "| Ctrl+D | 删除行 |\n",
    "| Ctrl+\\[ Ctrl+\\] | 缩进  |"
   ]
  }
 ],
 "metadata": {
  "kernelspec": {
   "display_name": "Python 3 (ipykernel)",
   "language": "python",
   "name": "python3"
  },
  "language_info": {
   "codemirror_mode": {
    "name": "ipython",
    "version": 3
   },
   "file_extension": ".py",
   "mimetype": "text/x-python",
   "name": "python",
   "nbconvert_exporter": "python",
   "pygments_lexer": "ipython3",
   "version": "3.10.6"
  }
 },
 "nbformat": 4,
 "nbformat_minor": 5
}
