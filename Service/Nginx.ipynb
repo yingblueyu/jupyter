{
 "cells": [
  {
   "cell_type": "markdown",
   "id": "28410c4f",
   "metadata": {},
   "source": [
    "# 安装"
   ]
  },
  {
   "cell_type": "markdown",
   "id": "af5afa22",
   "metadata": {},
   "source": [
    "## Docker\n",
    "\n",
    "\n",
    "```bash\n",
    "docker run --name nginx -p 80:80 -p 443:443 \\\n",
    "        -v /home/yt/web:/usr/share/nginx/html \\\n",
    "        -v /home/yt/etc/nginx:/etc/nginx   \\\n",
    "        --restart=always \\\n",
    "        -d nginx\n",
    "```\n",
    "\n"
   ]
  },
  {
   "cell_type": "markdown",
   "id": "65bd3a81",
   "metadata": {},
   "source": [
    "nginx 的 403 Forbidden errors \n",
    "表示你在请求一个资源文件但是nginx不允许你查看。\n",
    "设置所有父目录为755权限，设置文件为644权限可以避免权限不正确。\n",
    "\n",
    "chmod -R +x /some/directory"
   ]
  },
  {
   "cell_type": "code",
   "execution_count": null,
   "id": "9e6b3d10",
   "metadata": {},
   "outputs": [],
   "source": [
    "user  nginx;\n",
    "worker_processes  auto;\n",
    "\n",
    "error_log  /var/log/nginx/error.log notice;\n",
    "pid        /var/run/nginx.pid;\n",
    "\n",
    "\n",
    "events {\n",
    "    worker_connections  1024;\n",
    "}\n",
    "\n",
    "\n",
    "http {\n",
    "    include       /etc/nginx/mime.types;\n",
    "    default_type  application/octet-stream;\n",
    "\n",
    "    log_format  main  '$remote_addr - $remote_user [$time_local] \"$request\" '\n",
    "                      '$status $body_bytes_sent \"$http_referer\" '\n",
    "                      '\"$http_user_agent\" \"$http_x_forwarded_for\"';\n",
    "\n",
    "    access_log  /var/log/nginx/access.log  main;\n",
    "\n",
    "    sendfile        on;\n",
    "    #tcp_nopush     on;\n",
    "\n",
    "    keepalive_timeout  65;\n",
    "\n",
    "    #gzip  on;\n",
    "\n",
    "    include /etc/nginx/conf.d/*.conf;\n",
    "}\n"
   ]
  },
  {
   "cell_type": "code",
   "execution_count": null,
   "id": "0bf5d21e",
   "metadata": {},
   "outputs": [],
   "source": [
    "server {\n",
    "    listen       80;\n",
    "    listen  [::]:80;\n",
    "    server_name  localhost;\n",
    "\n",
    "    #access_log  /var/log/nginx/host.access.log  main;\n",
    "\n",
    "    location / {\n",
    "        root   /usr/share/nginx/html;\n",
    "        index  index.html index.htm;\n",
    "    }\n",
    "\n",
    "    #error_page  404              /404.html;\n",
    "\n",
    "    # redirect server error pages to the static page /50x.html\n",
    "    #\n",
    "    error_page   500 502 503 504  /50x.html;\n",
    "    location = /50x.html {\n",
    "        root   /usr/share/nginx/html;\n",
    "    }\n",
    "\n",
    "    # proxy the PHP scripts to Apache listening on 127.0.0.1:80\n",
    "    #\n",
    "    #location ~ \\.php$ {\n",
    "    #    proxy_pass   http://127.0.0.1;\n",
    "    #}\n",
    "\n",
    "    # pass the PHP scripts to FastCGI server listening on 127.0.0.1:9000\n",
    "    #\n",
    "    #location ~ \\.php$ {\n",
    "    #    root           html;\n",
    "    #    fastcgi_pass   127.0.0.1:9000;\n",
    "    #    fastcgi_index  index.php;\n",
    "    #    fastcgi_param  SCRIPT_FILENAME  /scripts$fastcgi_script_name;\n",
    "    #    include        fastcgi_params;\n",
    "    #}\n",
    "\n",
    "    # deny access to .htaccess files, if Apache's document root\n",
    "    # concurs with nginx's one\n",
    "    #\n",
    "    #location ~ /\\.ht {\n",
    "    #    deny  all;\n",
    "    #}\n",
    "}\n"
   ]
  },
  {
   "cell_type": "code",
   "execution_count": null,
   "id": "389cfbbb",
   "metadata": {},
   "outputs": [],
   "source": [
    "某网站拥有用于非对称加密的公钥A、私钥A’。\n",
    "浏览器向网站服务器请求，服务器把公钥A明文给传输浏览器。\n",
    "浏览器随机生成一个用于对称加密的密钥X，用公钥A加密后传给服务器。\n",
    "服务器拿到后用私钥A’解密得到密钥X。\n",
    "这样双方就都拥有密钥X了，且别人无法知道它。之后双方所有数据都通过密钥X加密解密即可。"
   ]
  }
 ],
 "metadata": {
  "kernelspec": {
   "display_name": "Python 3 (ipykernel)",
   "language": "python",
   "name": "python3"
  },
  "language_info": {
   "codemirror_mode": {
    "name": "ipython",
    "version": 3
   },
   "file_extension": ".py",
   "mimetype": "text/x-python",
   "name": "python",
   "nbconvert_exporter": "python",
   "pygments_lexer": "ipython3",
   "version": "3.10.6"
  }
 },
 "nbformat": 4,
 "nbformat_minor": 5
}
