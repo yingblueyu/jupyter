{
 "cells": [
  {
   "cell_type": "markdown",
   "id": "eb5071e3",
   "metadata": {},
   "source": [
    "## 状态码\n",
    "\n",
    "- 200 OK [GET]\n",
    "- 201 CREATED [POST|PUT|PATCH]\n",
    "- 202 Accepted 异步任务，表示一个请求已进入后台队列\n",
    "- 204 NO CONTENT [DELETE] 删除成功\n",
    "\n",
    "- 400 Invalid Request [POST|PUT|PATCH] 请求有错误，服务器没有进行修改或新建操作\n",
    "- 401 Unauthorized [\\*] 用户没有权限，令牌、用户名、密码错误\n",
    "- 403 Forbidden [\\*] 用户得到授权，但是访问是被禁止的\n",
    "- 404 NOT FOUND [\\*] 请求的对象不存在\n",
    "- 406 Not Acceptable [GET] 用户请求的格式不可得\n",
    "- 410 Gone [GET] 用户请求的资源被删除\n",
    "- 422 Unproce"
   ]
  },
  {
   "cell_type": "markdown",
   "id": "6dd5fb37",
   "metadata": {},
   "source": [
    "## 返回结果\n",
    "HTTP头的Content-Type应设为application/json  \n",
    "\n",
    "- GET /collection 返回资源列表\n",
    "- GET /collection/resource 返回单个资源对象\n",
    "- POST /collection 返回新生成的资源对象\n",
    "- PUT /collection/resource 返回完整的资源对象 更新\n",
    "- PATCH /collection/resource 返回完整的资源对象 部分更新\n",
    "- DELETE /collection/resource 返回空文档"
   ]
  },
  {
   "cell_type": "markdown",
   "id": "bc70da34",
   "metadata": {},
   "source": [
    "## 错误处理\n",
    "400"
   ]
  }
 ],
 "metadata": {
  "kernelspec": {
   "display_name": "Python 3 (ipykernel)",
   "language": "python",
   "name": "python3"
  },
  "language_info": {
   "codemirror_mode": {
    "name": "ipython",
    "version": 3
   },
   "file_extension": ".py",
   "mimetype": "text/x-python",
   "name": "python",
   "nbconvert_exporter": "python",
   "pygments_lexer": "ipython3",
   "version": "3.10.6"
  }
 },
 "nbformat": 4,
 "nbformat_minor": 5
}
