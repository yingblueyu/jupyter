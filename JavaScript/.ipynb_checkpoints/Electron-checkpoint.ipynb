{
 "cells": [
  {
   "cell_type": "code",
   "execution_count": null,
   "id": "bf6d27e6",
   "metadata": {},
   "outputs": [],
   "source": [
    "const { app, BrowserWindow } = require(\"electron\");\n",
    "const path = require(\"path\");\n",
    "\n",
    "function createWindow() {\n",
    "  const win = new BrowserWindow({\n",
    "    width: 800,\n",
    "    height: 600,\n",
    "    webPreferences: {\n",
    "    //   preload: path.join(__dirname, \"preload.js\"),\n",
    "    },\n",
    "  });\n",
    "\n",
    "  win.loadFile(\"index.html\");\n",
    "}\n",
    "\n",
    "app.whenReady().then(() => {\n",
    "  createWindow(); // Browser windows can only be created after the app ready event is fired.\n",
    "\n",
    "  app.on(\"activate\", () => {\n",
    "    if (BrowserWindow.getAllWindows().length === 0) {\n",
    "      createWindow();\n",
    "    }\n",
    "  });\n",
    "});\n",
    "\n",
    "app.on(\"window-all-closed\", () => {\n",
    "  if (process.platform !== \"darwin\") {\n",
    "    app.quit();\n",
    "  }\n",
    "});\n"
   ]
  }
 ],
 "metadata": {
  "kernelspec": {
   "display_name": "JavaScript (Node.js)",
   "language": "javascript",
   "name": "javascript"
  },
  "language_info": {
   "file_extension": ".js",
   "mimetype": "application/javascript",
   "name": "javascript",
   "version": "12.22.9"
  }
 },
 "nbformat": 4,
 "nbformat_minor": 5
}
