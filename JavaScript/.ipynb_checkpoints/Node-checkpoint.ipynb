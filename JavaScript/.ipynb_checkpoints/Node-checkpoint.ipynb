{
 "cells": [
  {
   "cell_type": "markdown",
   "id": "a683a588",
   "metadata": {},
   "source": [
    "process global variable\n",
    "process.env // get a list of environment variables\n",
    "process.argv // command line arguments passed to the application"
   ]
  },
  {
   "cell_type": "markdown",
   "id": "4788e72d",
   "metadata": {},
   "source": [
    "\n",
    "child_process module"
   ]
  },
  {
   "cell_type": "markdown",
   "id": "b4bd1e1e",
   "metadata": {},
   "source": [
    "fs\n",
    "net\n",
    "dgram\n",
    "http\n",
    "https\n",
    "crypto\n",
    "v8\n"
   ]
  },
  {
   "cell_type": "markdown",
   "id": "7f2accf0",
   "metadata": {},
   "source": [
    "## util\n",
    "\n",
    "### promisify\n",
    "\n",
    "```javascript\n",
    "const util = require('util');\n",
    "const fs = require('fs');\n",
    "\n",
    "const stat = util.promisify(fs.stat);\n",
    "stat('.').then((stats) => {\n",
    "  // Do something with `stats`\n",
    "}).catch((error) => {\n",
    "  // Handle the error.\n",
    "});\n",
    "```\n",
    "\n",
    "```javascript\n",
    "const util = require('util');\n",
    "const fs = require('fs');\n",
    "\n",
    "const stat = util.promisify(fs.stat);\n",
    "\n",
    "async function callStat() {\n",
    "  const stats = await stat('.');\n",
    "  console.log(`This directory is owned by ${stats.uid}`);\n",
    "}\n",
    "```"
   ]
  },
  {
   "cell_type": "markdown",
   "id": "874cff15",
   "metadata": {},
   "source": []
  }
 ],
 "metadata": {
  "kernelspec": {
   "display_name": "JavaScript (Node.js)",
   "language": "javascript",
   "name": "javascript"
  },
  "language_info": {
   "file_extension": ".js",
   "mimetype": "application/javascript",
   "name": "javascript",
   "version": "12.22.9"
  }
 },
 "nbformat": 4,
 "nbformat_minor": 5
}
