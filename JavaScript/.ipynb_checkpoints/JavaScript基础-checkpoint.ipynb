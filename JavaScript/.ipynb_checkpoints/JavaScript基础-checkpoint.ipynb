{
 "cells": [
  {
   "cell_type": "markdown",
   "id": "c2cef6bb",
   "metadata": {},
   "source": [
    "# 数字和字符串\n",
    "\n",
    "```\n",
    "const quantity = \"12\";\n",
    "console.log(typeof quantity);\n",
    "console.log(typeof Number(quantity)); // NaN if can't converted\n",
    "isNaN(123); // 判断是否是NaN\n",
    "\n",
    "const quantity = \"12\";\n",
    "console.log(parseInt(quantity, 10));\n",
    "const quantity = \"12.7\";\n",
    "console.log(parseInt(quantity, 10)); // 12\n",
    "\n",
    "const quantity = \"12.7\"\n",
    "console.log(parseFloat(quantity)); // 12.7\n",
    "\n",
    "const percent = (v_1, v_2) => { // 求百分比\n",
    "   return ((100 * (v_2 - v_1)) / v_1).toFixed(1);\n",
    "};\n",
    "```"
   ]
  },
  {
   "cell_type": "markdown",
   "id": "a560aba7",
   "metadata": {},
   "source": [
    "# Array\n",
    "\n",
    "Array is a map from indeces to values. Array may not contiguous and can have holes in them.  \n",
    "The max array length is 2<sup>32</sup>-1."
   ]
  },
  {
   "cell_type": "code",
   "execution_count": null,
   "id": "47d0f40c",
   "metadata": {},
   "outputs": [],
   "source": [
    "var arr = ['a', 'b', 'c'];\n",
    "arr[0]\n",
    "arr.length\n",
    "arr[3] = 'd' // append a element\n",
    "arr.length\n",
    "arr[8] = 'e'\n",
    "arr.length // 9\n",
    "arr.push['h'] // append a element\n",
    "arr"
   ]
  },
  {
   "cell_type": "markdown",
   "id": "5f3f4161",
   "metadata": {},
   "source": [
    "# OOP"
   ]
  },
  {
   "cell_type": "markdown",
   "id": "5abd8d3f",
   "metadata": {},
   "source": [
    "The prototype of object is stored in the __proto__ property.\n",
    "Object.getPrototypeOf() // get the prototype of an object.\n",
    "Object.isPrototypeOf() // whether an object is the prototype of another object."
   ]
  },
  {
   "cell_type": "code",
   "execution_count": 4,
   "id": "deda0953",
   "metadata": {},
   "outputs": [
    {
     "name": "stdout",
     "output_type": "stream",
     "text": [
      "{}\n",
      "{ name: '', eat: [Function: eat] }\n",
      "meow\n"
     ]
    }
   ],
   "source": [
    "const animal = {\n",
    "    name: '',\n",
    "    eat: function(food) {\n",
    "        console.log('chow ' + food)\n",
    "    },\n",
    "};\n",
    "\n",
    "const cat = Object.create(animal); // Using animal as prototype\n",
    "console.log(cat);\n",
    "console.log(cat.__proto__);\n",
    "\n",
    "cat.meow = function() {\n",
    "    console.log('meow');\n",
    "}\n",
    "cat.meow();"
   ]
  },
  {
   "cell_type": "markdown",
   "id": "49c07982",
   "metadata": {},
   "source": [
    "## 使用对象字面量"
   ]
  },
  {
   "cell_type": "code",
   "execution_count": null,
   "id": "f175124d",
   "metadata": {},
   "outputs": [],
   "source": [
    "// two properties: name and describe.\n",
    "var jane = {\n",
    "    name: 'Jane',\n",
    "    \n",
    "    describe: function () {\n",
    "        return 'my name is ' + this.name;\n",
    "    },\n",
    "    \n",
    "    des_1() {\n",
    "        console.log(this.name);\n",
    "    },\n",
    "};\n",
    "\n",
    "jane.name // get property name\n",
    "jane.describe // get property describe\n",
    "jane.describe() \n",
    "jane.unknownProperty // undefined\n",
    "\n",
    "jane.name = 'John'\n",
    "jane.describe()\n",
    "\n",
    "jane.gender = 'male' //If a property doesn't exist, setting it auto create it.\n",
    "Object.keys(jane)\n",
    "\n",
    "delete jane.name // complete remove a property\n",
    "Object.keys(jane)\n",
    "\n"
   ]
  },
  {
   "cell_type": "markdown",
   "id": "60209bb0",
   "metadata": {},
   "source": [
    "## Constructor"
   ]
  },
  {
   "cell_type": "code",
   "execution_count": null,
   "id": "b1f9bea0",
   "metadata": {},
   "outputs": [],
   "source": [
    "function Range(from, to) {\n",
    "    this.from = from;\n",
    "    this.to = to;\n",
    "}\n",
    "\n",
    "Range.prototype = {\n",
    "    include: function(x) {\n",
    "        return this.from <= x && x <= this.to\n",
    "    },\n",
    "    \n",
    "    foreach: function(f) {\n",
    "        for(var x = Math.ceil(this.from); x <= this.to; x++) f(x);\n",
    "    },\n",
    "    \n",
    "    toString: function() { return \"(\" + this.from + \"...\" + this.to + \")\" },\n",
    "}\n",
    "\n",
    "var r = new Range(3, 5);\n",
    "console.log(r);\n",
    "r.include(4);\n",
    "r.toString();\n",
    "console.log(r instanceof Range); // return true if r inherits from Range.prototype\n"
   ]
  },
  {
   "cell_type": "markdown",
   "id": "084ea78e",
   "metadata": {},
   "source": [
    "# 对象编程\n",
    "\n",
    "```\n",
    "class Car {\n",
    "    constructor(name, age) {\n",
    "        this.name = name;\n",
    "        this.age = age;\n",
    "    }\n",
    "    \n",
    "    a = 5; // 类中直接写赋值语句, 给Car实例增加一个属性, 名为a, 值为5\n",
    "}\n",
    "```\n",
    "\n",
    "Immutable Object:\n",
    "\n",
    "Object.freeze() or the deep-freeze Module\n",
    "\n",
    "```\n",
    "const obj = {\n",
    "  prop: 42\n",
    "};\n",
    "\n",
    "Object.freeze(obj);\n",
    "\n",
    "obj.prop = 33;\n",
    "// Throws an error in strict mode\n",
    "\n",
    "console.log(obj.prop);\n",
    "// expected output: 42\n",
    "\n",
    "```"
   ]
  },
  {
   "cell_type": "markdown",
   "id": "dbf9db6e",
   "metadata": {},
   "source": [
    "# Date"
   ]
  },
  {
   "cell_type": "code",
   "execution_count": null,
   "id": "a11d37de",
   "metadata": {},
   "outputs": [],
   "source": [
    "let today = new Date(); // creates a new date object with the current date and time, 国际标准时 2023-09-02T14:18:56.708Z\n",
    "Date(); // new Date().toString\n",
    "\n",
    "let d = new Date();\n",
    "d.setTime(d.getTime() - 24*60*60*1000); // yesterday\n",
    "\n",
    "// Constructs a new date from the given data. \n",
    "// The time is interpreted relative to the current time zone.\n",
    "/*\n",
    "year: For 0 ≤ year ≤ 99, 1900 is added.\n",
    "month: 0–11 (0 is January, 1 is February, etc.)\n",
    "date: 1–31\n",
    "hours: 0–23\n",
    "minutes: 0–59\n",
    "seconds: 0–59\n",
    "milliseconds: 0–999\n",
    "*/\n",
    "new Date(year, month, date?, hours?, minutes?, seconds?, milliseconds?); \n",
    "new Date('2004-08-29');   // dateTimeStr\n",
    "new Date(timeValue); // number of milliseconds since 1 January 1970 00:00:00 UTC.\n",
    "new Date() == new Date(Date.now());\n",
    "new Date(NaN); // produces a special instance of Date, an “invalid date”\n",
    "\n",
    "d.getTime(); // Returns the number of milliseconds since midnight Jan 1 1970, and a specified date\n",
    "\n",
    "/* The Date.parse() method parses a string representation of a date, and returns the number of milliseconds since January 1, 1970, 00:00:00 UTC */\n",
    "\n",
    "const unixTimeZero = Date.parse('01 Jan 1970 00:00:00 GMT');\n",
    "const javaScriptRelease = Date.parse('04 Dec 1995 00:12:00 GMT');\n",
    "\n",
    "console.log(unixTimeZero);\n",
    "// expected output: 0\n",
    "\n",
    "console.log(javaScriptRelease);\n",
    "// expected output: 818035920000\n",
    "\n",
    "// The Javascript standard provides three different formats for Javascript dates.\n",
    "// each format has different uses.\n",
    "// The three Javascript date format types are ISO dates, short dates, and long dates.\n",
    "\n",
    "// ISO date:\n",
    "let completeDate = new Date(\"2021-01-01\");\n",
    "let yearMonth = new Date(\"2021-01\");\n",
    "let yearOnly = new Date(\"2021\");\n",
    "let dateTimeUTC = new Date(\"2021-01-01T12:00:00Z\");\n",
    "let dateTimeEST = new Date(\"2021-01-01T12:00:00-04:00\");\n",
    "\n",
    "\n",
    "// short date:\n",
    "let shortDate = new Date(\"01/12/2021\");\n",
    "\n",
    "// long date:\n",
    "let longDate1 = new Date(\"Jan 01 2021\");\n",
    "let longDates = new Date(\"01 Jan 2021\");\n",
    "let longDate3 = new Date(\"January 01 2021\");\n",
    "let longDate4 = new Date(\"JAN 01, 2021\");\n"
   ]
  },
  {
   "cell_type": "code",
   "execution_count": null,
   "id": "7524c471",
   "metadata": {},
   "outputs": [],
   "source": [
    "// yyyyMMddHHmmssfff\n",
    "const getDateStringUdp = (date = new Date()) => {\n",
    "  let d = date;\n",
    "  let year = d.getFullYear();\n",
    "  let month = (d.getMonth() + 1).toString().padStart(2, '0');\n",
    "  let day = d.getDate().toString().padStart(2, '0');\n",
    "  let hour = d.getHours().toString().padStart(2, '0');\n",
    "  let minute = d.getMinutes().toString().padStart(2, '0');\n",
    "  let second = d.getSeconds().toString().padStart(2, '0');\n",
    "  // let milliSecond = (d.getMilliseconds()).toString().padStart(3, \"0\");\n",
    "  return (\n",
    "    year + '-' + month + '-' + day + ' ' + hour + ':' + minute + ':' + second\n",
    "  );\n",
    "};"
   ]
  }
 ],
 "metadata": {
  "kernelspec": {
   "display_name": "JavaScript (Node.js)",
   "language": "javascript",
   "name": "javascript"
  },
  "language_info": {
   "file_extension": ".js",
   "mimetype": "application/javascript",
   "name": "javascript",
   "version": "12.22.9"
  }
 },
 "nbformat": 4,
 "nbformat_minor": 5
}
