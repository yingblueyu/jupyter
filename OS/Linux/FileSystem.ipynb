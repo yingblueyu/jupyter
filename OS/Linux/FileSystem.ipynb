{
 "cells": [
  {
   "cell_type": "markdown",
   "id": "d7a04bef",
   "metadata": {},
   "source": [
    "df -h\n",
    "\n",
    "- superblock\n",
    "    记录此 filesystem 的整体信息，包括inode/block的总量、使用量、剩余量， 以及文件系统的格式\n",
    "    \n",
    "- inode\n",
    "    记录文件的属性，一个文件占用一个inode，同时记录此文件的数据所在的 **block 号码**\n",
    "    \n",
    "- block\n",
    "    原则上，block 的大小与数量在格式化完就不能够再改变了（除非重新格式化）；\n",
    "    每个 block 内最多只能够放置一个文件的数据；\n",
    "    如果文件大于 block 的大小，则一个文件会占用多个 block 数量；小于 block ，则该 block 的剩余容量就不能够再被使用了（磁盘空间会浪费）\n",
    "    \n",
    "\n",
    "| Block大小 | 1KB | 2KB | 4KB |\n",
    "| --- | --- | --- | --- |\n",
    "| single file | 16GB | 256GB | 2TB |\n",
    "| 总容量 | 2TB | 8TB | 16TB |"
   ]
  },
  {
   "cell_type": "markdown",
   "id": "bc19872c",
   "metadata": {},
   "source": [
    "文件系统：\n",
    "- superblock\n",
    "- inode\n",
    "- block"
   ]
  },
  {
   "cell_type": "markdown",
   "id": "3a375e6b",
   "metadata": {},
   "source": [
    "Superblock 1024B\n",
    "\n",
    "- block 与 inode 的总量；\n",
    "- 未使用与已使用的 inode / block 数量；\n",
    "- block 与 inode 的大小 （block 为 1, 2, 4K，inode 为 128Bytes 或 256Bytes）；\n",
    "- filesystem 的挂载时间、最近一次写入数据的时间、最近一次检验磁盘 （fsck） 的时间等文件系统的相关信息；\n",
    "- 一个 valid bit 数值，若此文件系统已被挂载，则 valid bit 为 0 ，若未被挂载，则 valid bit 为 1 。"
   ]
  },
  {
   "cell_type": "markdown",
   "id": "f3ce0681",
   "metadata": {},
   "source": [
    "inode 128B\n",
    "\n",
    "## 基本性质\n",
    "每个inode 128Bytes, Ext4可扩大到256Bytes\n",
    "每个文件1个inode\n",
    "取消文件时先通过inode核对权限\n",
    "\n",
    "## 内容\n",
    "- 文件的读、写、执行权限\n",
    "- 文件拥有者的User ID\n",
    "- 文件的Group ID\n",
    "- 文件的字节数\n",
    "- 文件的时间戳，共有三个：\n",
    "- ctime指inode上一次变动的时间\n",
    "- mtime指文件内容上一次变动的时间，\n",
    "- atime指文件上一次打开的时间。\n",
    "\n",
    "链接数，即有多少文件名指向这个inode\n",
    "文件特性的flag, 如SetUID\n",
    "文件数据block的位置"
   ]
  },
  {
   "cell_type": "code",
   "execution_count": null,
   "id": "e4141e86",
   "metadata": {},
   "outputs": [],
   "source": [
    "dumpe2fs /dev/sdb1"
   ]
  },
  {
   "cell_type": "code",
   "execution_count": null,
   "id": "73facd26",
   "metadata": {},
   "outputs": [],
   "source": [
    "chown yt /home/yt/www\n",
    "chown yt:yt /home/yt/www"
   ]
  },
  {
   "cell_type": "markdown",
   "id": "590161d8",
   "metadata": {},
   "source": [
    "```\n",
    "mount -a /etc/fstab未挂载的磁盘都挂载上来\n",
    "\n",
    "mount -l 目前挂载的信息\n",
    "\n",
    "```"
   ]
  },
  {
   "cell_type": "markdown",
   "id": "eb297d8e",
   "metadata": {},
   "source": [
    "```\n",
    "建立文件系统\n",
    "\n",
    "mkfs -t ext4 /dev/sdc1\n",
    "\n",
    "```"
   ]
  },
  {
   "cell_type": "markdown",
   "id": "de4a2134",
   "metadata": {},
   "source": [
    "当我们在 Linux 下的文件系统创建一个目录时，文件系统会分配一个 inode 与至少一块 block 给该目录。\n",
    "- inode 记录该目录的相关权限与属性，并可记录分配到的那块 block 号码。\n",
    "- block 则是记录在这个目录下的文件名与该文件名占用的 inode 号码数据。"
   ]
  },
  {
   "cell_type": "code",
   "execution_count": null,
   "id": "8abc3a97",
   "metadata": {},
   "outputs": [],
   "source": [
    "cd ~\n",
    "cd -"
   ]
  },
  {
   "cell_type": "code",
   "execution_count": null,
   "id": "069aefd3",
   "metadata": {},
   "outputs": [],
   "source": [
    "ls -l\n",
    "ls -li # inode number\n",
    "\n",
    "lsattr"
   ]
  },
  {
   "cell_type": "code",
   "execution_count": null,
   "id": "5a25b6cb",
   "metadata": {},
   "outputs": [],
   "source": [
    "## ls\n",
    "\n",
    "d: 目录文件 蓝色\n",
    "l: 链接文件 浅蓝色\n",
    "b: 块设备文件\n",
    "c: 字符设备文件\n",
    "p: 管道文件\n",
    "-: 普通文件 黑色 绿色(可执行)\n",
    "\n",
    "ls -l ： 显示文件和目录中的全部信息\n",
    "ls -d: 只查看目录信息\n",
    "ld -ld: 查看目录详细信息\n",
    "ls -a ：列出全部文件，包含隐藏文件，其中a表示为all\n",
    "ls -R ：连同子目录中的文件全部列出，相当于是递归列出全部内容，也就是说该目录下的所有文件的都会被显示出来\n",
    "ls \\[0-9\\]：显示包含数字的文件名和目录名命令\n",
    "\n",
    "ls -S: 按文件大小排序\n",
    "\n",
    "## mv\n",
    "\n",
    "mv就是move移动的含义，用于移动文件、目录或者更改文件名\n",
    "\n",
    "mv -f：f是指force，覆盖之前不会进行询问\n",
    "\n",
    "mv -i：覆盖之前进行询问mv -u：目标文件比源文件新的时候，才会进行更新\n",
    "\n",
    "mv oldFileName newFileName – 重命名\n",
    "\n",
    "mv hello.txt /home/peter – 移动位置mv /dir1 /dir2 – 将目录dir1移动到目录dir2中，前提是dir2已经存在，若不存在则改名\n",
    "\n",
    "mv /dir1/* . – 将dir1下面的全部文件(*代表全部)移动到当前目录下\n",
    "\n",
    "## rm\n",
    "\n",
    "rm就是指remove的含义，用于删除文件或者目录\n",
    "\n",
    "rm -f：强制删除内容，不会出现任何警告内容\n",
    "\n",
    "rm -i：互动模式，在删除之前进行询问是否删除\n",
    "\n",
    "rm -r：递归删除，最常用于删除某个目录下的全部内容⚠️：这个命令要谨慎操作！！！"
   ]
  },
  {
   "cell_type": "markdown",
   "id": "bb6e1236",
   "metadata": {},
   "source": [
    "# 压缩与打包\n",
    "\n",
    "压缩 \n",
    "tar -jcv -f ***.tar.bz2 文件名 目录名\n",
    "\n",
    "查询 \n",
    "tar -jtv -f ***.tar.bz2\n",
    "\n",
    "接压缩 \n",
    "tar -jxv ***.tar.bz2\n",
    "\n",
    "- j bzip2格式 \n",
    "- z gzip格式\n",
    "- c 打包\n",
    "- x 解包\n",
    "- t table of contents"
   ]
  },
  {
   "cell_type": "markdown",
   "id": "301ec062",
   "metadata": {},
   "source": [
    "## alias\n",
    "\n",
    "alias ll=“ls --color”\n",
    "unalias ll\n",
    "\n",
    "永久有效\n",
    "vim /etc/.bashrc\n",
    "vim ~/.profile\n",
    "\n",
    "## cd\n",
    "\n",
    "cd ~ 相当于cd\n",
    "cd …\n",
    "cd - 切换到之前目录\n",
    "\n",
    "## cp\n",
    "\n",
    "cp就是copy复制的意思，用于复制文件，该命令还可以将多个文件一次性复制到同一个目录下\n",
    "\n",
    "cp -a：将文件的特性一起进行复制\n",
    "\n",
    "cp -p：连同文件的属性一起进行复制，和上面的-a参数相似，常用作备份\n",
    "\n",
    "cp -i ：如果目标文件存在，则在覆盖之前先进行询问\n",
    "\n",
    "cp -r：递归持续的复制cp -u：目标文件和源文件存在差异的时候才会进行复制命令"
   ]
  }
 ],
 "metadata": {
  "kernelspec": {
   "display_name": "Python 3 (ipykernel)",
   "language": "python",
   "name": "python3"
  },
  "language_info": {
   "codemirror_mode": {
    "name": "ipython",
    "version": 3
   },
   "file_extension": ".py",
   "mimetype": "text/x-python",
   "name": "python",
   "nbconvert_exporter": "python",
   "pygments_lexer": "ipython3",
   "version": "3.10.6"
  }
 },
 "nbformat": 4,
 "nbformat_minor": 5
}
