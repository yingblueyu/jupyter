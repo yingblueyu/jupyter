{
 "cells": [
  {
   "cell_type": "code",
   "execution_count": null,
   "id": "414845dc",
   "metadata": {},
   "outputs": [],
   "source": [
    "# locate/print block device attributes\n",
    "blkid "
   ]
  },
  {
   "cell_type": "markdown",
   "id": "be4fae44",
   "metadata": {},
   "source": [
    "# 磁盘管理\n",
    "\n",
    "- MBR Master Boot Record 磁盘主引导记录\n",
    "    0柱面 0磁头 1扇区\n",
    "    - 主引导程序 446byte\n",
    "    - DPT Disk Partition Table 64byte\n",
    "    - magic number 0x55AA\n",
    "- 分区\n",
    "    主分区4个， GPT不限制主分区个数 。\n",
    "    扩展分区只能有1个，扩展分区必须生成逻辑分区，方可格式化。\n",
    "    逻辑分区， 在扩展分区指向的分区内继续分区。限制分区数为11，5-15。\n",
    "    /dev/sdb1 /dev/sdb2 /dev/sdb3（主分区） /dev/sdb4（扩展分区) ） /dev/sdb5…./dev/sdb15（逻辑分区）\n",
    "    sd: scsi disk"
   ]
  },
  {
   "cell_type": "markdown",
   "id": "e5357b44",
   "metadata": {},
   "source": [
    "## fdisk\n",
    "```\n",
    "分区\n",
    "\n",
    "fdisk -l\n",
    "\n",
    "fdisk /dev/sdc\n",
    "\n",
    "```\n",
    "\n",
    "```\n",
    "fdisk /dev/sd[n]\n",
    "   m help\n",
    "   p print\n",
    "   d delete partition\n",
    "   q quit without saving\n",
    "   w wirte table to disk\n",
    "   n new partition\n",
    "   t change system id\n",
    "```\n",
    "\n",
    "FAT16：MS—DOS和win95采用的磁盘分区格式，采用16位的文件分配表，只支持2GB的磁盘分区，最大单文件2GB，且磁盘利用率低\n",
    "FAT32：（即Vfat）采用32位的文件分配表，支持最大分区128GB，最大文件4GB\n",
    "NTFS：支持最大分区2TB，最大文件2TB，安全性和稳定性非常好，不易出现文件碎片。\n",
    "\n",
    "```\n",
    "dd if=/dev/zero of=boot.img bs=512 count=2880 制作映像文件\n",
    "sudo losetup /dev/loop0 boot.img\n",
    "sudo mkfs.msdos /dev/loop0\n",
    "sudo fsck.msdos /dev/loop0\n",
    "sudo losetup -d /dev/loop0 映像文件格式化\n",
    "sudo losetup /dev/loop0 boot.img\n",
    "sudo dd if=/…/…/*.bin of=/dev/loop0\n",
    "sudo losetup -d /dev/loop0 拷文件到映像文件\n",
    "\n",
    "sudo mkfs.vfat /dev/sd{n}\n",
    "sudo mkfs.ntfs /dev/sd[n]\n",
    "```"
   ]
  },
  {
   "cell_type": "markdown",
   "id": "eace0882",
   "metadata": {},
   "source": [
    "## 挂载\n",
    "`mount /dev/sda1 /mnt/sda1`\n",
    "samba: //server/share\n",
    "NFS: server:/shares\n",
    "\n",
    "sudo blkid /dev/sda1 # 查看UUID\n",
    "sudo blkid # 查看所有设备UUID\n",
    "\n",
    "```\n",
    "sudo nano /etc/fstab\n",
    "\n",
    "sudo mount -a # 根据fstab重新mount\n",
    "```\n"
   ]
  }
 ],
 "metadata": {
  "kernelspec": {
   "display_name": "Python 3 (ipykernel)",
   "language": "python",
   "name": "python3"
  },
  "language_info": {
   "codemirror_mode": {
    "name": "ipython",
    "version": 3
   },
   "file_extension": ".py",
   "mimetype": "text/x-python",
   "name": "python",
   "nbconvert_exporter": "python",
   "pygments_lexer": "ipython3",
   "version": "3.10.6"
  }
 },
 "nbformat": 4,
 "nbformat_minor": 5
}
