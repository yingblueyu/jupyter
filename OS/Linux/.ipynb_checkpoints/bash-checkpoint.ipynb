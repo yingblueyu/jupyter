{
 "cells": [
  {
   "cell_type": "markdown",
   "id": "a6892084",
   "metadata": {},
   "source": [
    "命令行快捷键\n",
    "^a 命令行首\n",
    "^e 命令行尾\n",
    "^k 删除光标之后的字符\n",
    "^u 删除光标之前的字符\n",
    "^l  clear\n",
    "\n",
    "```bash\n",
    "# 命令行展开\n",
    "echo chao{1..10}\n",
    "echo chao{1..10..2} # step\n",
    "echo chao{01..100} # 0补全\n",
    "```\n",
    "\n",
    "```bash\n",
    "alias\n",
    "alias rm=\"rm -i\"\n",
    "unalias rm\n",
    "# 写入~/.bashrc持续生效\n",
    "```\n",
    "\n",
    "```bash\n",
    "history\n",
    "!12\n",
    "!! 上一次执行命令\n",
    "```\n",
    "\n",
    "shell单引号及双引号\n",
    "单引号：所有引号及特殊字符都解释为字符本身\n",
    "双引号：\n",
    "$ 调用变量的值\n",
    "‘’ 引用命令\n",
    "\\ 转义符\n",
    "\n",
    "环境变量"
   ]
  }
 ],
 "metadata": {
  "kernelspec": {
   "display_name": "Python 3 (ipykernel)",
   "language": "python",
   "name": "python3"
  },
  "language_info": {
   "codemirror_mode": {
    "name": "ipython",
    "version": 3
   },
   "file_extension": ".py",
   "mimetype": "text/x-python",
   "name": "python",
   "nbconvert_exporter": "python",
   "pygments_lexer": "ipython3",
   "version": "3.10.6"
  }
 },
 "nbformat": 4,
 "nbformat_minor": 5
}
