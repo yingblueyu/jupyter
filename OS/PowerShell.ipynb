{
 "cells": [
  {
   "cell_type": "markdown",
   "id": "33535903",
   "metadata": {},
   "source": [
    "```\n",
    "$env:HTTP_PROXY=http://localhost:22307\n",
    "$env:HTTPS_PROXY=https://localhost:22307\n",
    "$env:ELECTRON_MIRROR=\"https://npmmirror.com/mirrors/electron/\"\n",
    "$env:ELECTRON_CUSTOM_DIR=\"{{ version }}\"\n",
    "\n",
    "```\n",
    "\n",
    "```\n",
    "dir env:\n",
    "```"
   ]
  }
 ],
 "metadata": {
  "kernelspec": {
   "display_name": "Python 3 (ipykernel)",
   "language": "python",
   "name": "python3"
  },
  "language_info": {
   "codemirror_mode": {
    "name": "ipython",
    "version": 3
   },
   "file_extension": ".py",
   "mimetype": "text/x-python",
   "name": "python",
   "nbconvert_exporter": "python",
   "pygments_lexer": "ipython3",
   "version": "3.10.6"
  }
 },
 "nbformat": 4,
 "nbformat_minor": 5
}
